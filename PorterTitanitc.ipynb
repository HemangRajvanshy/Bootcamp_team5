{
 "cells": [
  {
   "cell_type": "code",
   "execution_count": 24,
   "metadata": {},
   "outputs": [],
   "source": [
    "import seaborn as sea\n",
    "import matplotlib.pyplot as plt\n",
    "import itertools\n",
    "from sklearn.metrics import confusion_matrix\n",
    "from sklearn.model_selection import train_test_split\n",
    "from sklearn import svm, tree, neighbors, neural_network\n",
    "from sklearn.feature_selection import SelectKBest, f_classif\n",
    "import numpy as np\n",
    "import pandas as pd\n",
    "from sklearn.ensemble import RandomForestClassifier\n",
    "from sklearn.preprocessing import LabelEncoder\n"
   ]
  },
  {
   "cell_type": "code",
   "execution_count": 16,
   "metadata": {},
   "outputs": [],
   "source": [
    "train_data = pd.read_csv('train.csv')\n",
    "test_data = pd.read_csv('test.csv')"
   ]
  },
  {
   "cell_type": "code",
   "execution_count": 17,
   "metadata": {},
   "outputs": [
    {
     "data": {
      "text/plain": [
       "['Age', 'Cabin', 'Embarked']"
      ]
     },
     "execution_count": 17,
     "metadata": {},
     "output_type": "execute_result"
    }
   ],
   "source": [
    "#Finding which categories need to have value replacements\n",
    "train_data.columns[train_data.isna().any()].tolist()\n"
   ]
  },
  {
   "cell_type": "code",
   "execution_count": 18,
   "metadata": {},
   "outputs": [],
   "source": [
    "#adding some new features, most notably Alone and Title\n",
    "data = [test_data, train_data]\n",
    "\n",
    "for train_data in data:\n",
    "    train_data.drop(columns=['Ticket', 'Cabin'], inplace=True)\n",
    "    train_data.set_index(keys=['PassengerId'], drop=True, inplace=True)\n",
    "\n",
    "\n",
    "    train_data['Alone'] = 1\n",
    "    train_data['Alone'].loc[train_data['Parch'] + train_data['SibSp'] > 1] = 0\n",
    "\n",
    "    train_nan_map = {'Age': train_data['Age'].mean(), 'Fare': train_data['Fare'].mean(\n",
    "    ), 'Embarked': train_data['Embarked'].mode()[0]}\n",
    "\n",
    "    train_data.fillna(value=train_nan_map, inplace=True)\n",
    "    train_data['Title'] = train_data['Name'].str.split(\n",
    "        \", \", expand=True)[1].str.split(\".\", expand=True)[0]\n",
    "    train_data['Title'] = train_data['Title'].replace('Mlle', 'Miss')\n",
    "    train_data['Title'] = train_data['Title'].replace('Ms', 'Miss')\n",
    "    train_data['Title'] = train_data['Title'].replace('Mme', 'Mrs')\n",
    "    \n",
    "    stat_min = 10\n",
    "    title_names = (train_data['Title'].value_counts() < stat_min)\n",
    "\n",
    "    train_data['Title'] = train_data['Title'].apply(\n",
    "        lambda x: 'Misc' if title_names.loc[x] == True else x)\n",
    "\n",
    "    encoder = LabelEncoder()\n",
    "    encode = ['Embarked', 'Sex', 'Title']\n",
    "    for col in encode:\n",
    "        train_data[col] = encoder.fit_transform(train_data[col])\n",
    "\n",
    "X_train = train_data.loc[:, train_data.columns != 'Survived']\n",
    "X_train = X_train.loc[:, X_train.columns != 'Name']\n",
    "\n",
    "y_train = train_data.loc[:, 'Survived']\n",
    "\n",
    "X_train, X_test, y_train, y_test = train_test_split(\n",
    "    X_train, y_train, test_size=0.20, random_state=10)"
   ]
  },
  {
   "cell_type": "code",
   "execution_count": 21,
   "metadata": {},
   "outputs": [
    {
     "name": "stdout",
     "output_type": "stream",
     "text": [
      "0.7206703910614525\n"
     ]
    }
   ],
   "source": [
    "#Let's try and make knn co-dominant\n",
    "knn_clf = neighbors.KNeighborsClassifier()\n",
    "knn_clf.fit(X_train.values, y_train.values)\n",
    "print(knn_clf.score(X_test.values, y_test.values))\n",
    "y_pred = knn_clf.predict(X_test.values)\n",
    "y_truth = y_test.values\n",
    "\n"
   ]
  },
  {
   "cell_type": "code",
   "execution_count": 25,
   "metadata": {},
   "outputs": [],
   "source": [
    "test = SelectKBest(f_classif, k='all')\n",
    "test_fit = test.fit(X_train, y_train)\n",
    "feat_score = test_fit.scores_.round(3)\n",
    "p_values = -np.log10(test_fit.pvalues_).round(3)"
   ]
  },
  {
   "cell_type": "code",
   "execution_count": 22,
   "metadata": {},
   "outputs": [
    {
     "name": "stdout",
     "output_type": "stream",
     "text": [
      "Confusion Matrix\n",
      "[[95 22]\n",
      " [28 34]]\n",
      "\n",
      "True Negatives 95\n",
      "False Positives 22\n",
      "False Negatives 28\n",
      "True Positives 34\n",
      "False Positive rate 0.18803418803418803\n",
      "False Negative rate 0.45161290322580644\n"
     ]
    }
   ],
   "source": [
    "tn, fp, fn, tp = confusion_matrix(y_truth, y_pred).ravel()\n",
    "print(\"Confusion Matrix\")\n",
    "print(confusion_matrix(y_truth, y_pred, labels=[0, 1]))\n",
    "print(\"\")\n",
    "print(\"True Negatives\", tn)\n",
    "print(\"False Positives\", fp)\n",
    "print(\"False Negatives\", fn)\n",
    "print(\"True Positives\", tp)\n",
    "print (\"False Positive rate\", fp/(fp+tn))\n",
    "print (\"False Negative rate\", fn/(fn+tp))\n"
   ]
  },
  {
   "cell_type": "code",
   "execution_count": null,
   "metadata": {},
   "outputs": [],
   "source": []
  }
 ],
 "metadata": {
  "kernelspec": {
   "display_name": "Python 3",
   "language": "python",
   "name": "python3"
  },
  "language_info": {
   "codemirror_mode": {
    "name": "ipython",
    "version": 3
   },
   "file_extension": ".py",
   "mimetype": "text/x-python",
   "name": "python",
   "nbconvert_exporter": "python",
   "pygments_lexer": "ipython3",
   "version": "3.7.1"
  }
 },
 "nbformat": 4,
 "nbformat_minor": 2
}
