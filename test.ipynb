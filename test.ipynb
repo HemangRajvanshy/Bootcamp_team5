{
 "cells": [
  {
   "cell_type": "code",
   "execution_count": 42,
   "metadata": {},
   "outputs": [
    {
     "name": "stderr",
     "output_type": "stream",
     "text": [
      "/home/hemang/.local/lib/python3.6/site-packages/pandas/core/indexing.py:190: SettingWithCopyWarning: \n",
      "A value is trying to be set on a copy of a slice from a DataFrame\n",
      "\n",
      "See the caveats in the documentation: http://pandas.pydata.org/pandas-docs/stable/indexing.html#indexing-view-versus-copy\n",
      "  self._setitem_with_indexer(indexer, value)\n"
     ]
    }
   ],
   "source": [
    "\n",
    "data = [test_data, train_data]\n",
    "\n",
    "for train_data in data:\n",
    "    train_data.drop(columns=['PassengerId', 'Ticket', 'Cabin'], inplace=True)\n",
    "\n",
    "    train_data['Alone'] = 1\n",
    "    train_data['Alone'].loc[train_data['Parch'] + train_data['SibSp'] > 1] = 0\n",
    "\n",
    "    train_nan_map = {'Age': train_data['Age'].mean(), 'Fare': train_data['Fare'].mean(\n",
    "    ), 'Embarked': train_data['Embarked'].mode()[0]}\n",
    "\n",
    "    train_data.fillna(value=train_nan_map, inplace=True)\n",
    "\n",
    "    # columns_map = {'Embarked': {'C': 0, 'Q': 1, 'S': 2},\n",
    "    #                'Sex': {'male': 0, 'female': 1}}\n",
    "    # train_data.replace(columns_map, inplace=True)\n",
    "\n",
    "    train_data['Title'] = train_data['Name'].str.split(\n",
    "        \", \", expand=True)[1].str.split(\".\", expand=True)[0]\n",
    "    stat_min = 10\n",
    "    title_names = (train_data['Title'].value_counts() < stat_min)\n",
    "\n",
    "    train_data['Title'] = train_data['Title'].apply(\n",
    "        lambda x: 'Misc' if title_names.loc[x] == True else x)\n",
    "\n",
    "    encoder = LabelEncoder()\n",
    "    encode = ['Embarked', 'Sex']\n",
    "    for col in encode:\n",
    "        train_data[col] = encoder.fit_transform(train_data[col])\n",
    "\n",
    "X_train = train_data.loc[:, train_data.columns != 'Survived']\n",
    "X_train = train_data.loc[:, train_data.columns != 'Name']\n",
    "\n",
    "y_train = train_data.loc[:, 'Survived']\n",
    "\n",
    "X_train, X_test, y_train, y_test = train_test_split(\n",
    "    X_train, y_train, test_size=0.33, random_state=10)\n"
   ]
  },
  {
   "cell_type": "code",
   "execution_count": 43,
   "metadata": {},
   "outputs": [
    {
     "name": "stdout",
     "output_type": "stream",
     "text": [
      "Survived  Pclass  Sex        Age  SibSp  Parch    Fare  Embarked  Alone  \\\n",
      "463         0       2    1  48.000000      0      0  13.000         2      1   \n",
      "159         0       3    1  29.699118      8      2  69.550         2      0   \n",
      "47          1       3    0  29.699118      0      0   7.750         1      1   \n",
      "402         0       3    0  21.000000      1      0   9.825         2      1   \n",
      "618         1       2    0   4.000000      2      1  39.000         2      0   \n",
      "\n",
      "      Title  \n",
      "463      Mr  \n",
      "159  Master  \n",
      "47     Miss  \n",
      "402    Miss  \n",
      "618    Miss  \n",
      "463    0\n",
      "159    0\n",
      "47     1\n",
      "402    0\n",
      "618    1\n",
      "Name: Survived, dtype: int64\n",
      "   Pclass                                          Name  Sex   Age  SibSp  \\\n",
      "0       3                              Kelly, Mr. James    1  34.5      0   \n",
      "1       3              Wilkes, Mrs. James (Ellen Needs)    0  47.0      1   \n",
      "2       2                     Myles, Mr. Thomas Francis    1  62.0      0   \n",
      "3       3                              Wirz, Mr. Albert    1  27.0      0   \n",
      "4       3  Hirvonen, Mrs. Alexander (Helga E Lindqvist)    0  22.0      1   \n",
      "\n",
      "   Parch     Fare  Embarked  Alone Title  \n",
      "0      0   7.8292         1      1    Mr  \n",
      "1      0   7.0000         2      1   Mrs  \n",
      "2      0   9.6875         1      1    Mr  \n",
      "3      0   8.6625         2      1    Mr  \n",
      "4      1  12.2875         2      0   Mrs  \n"
     ]
    }
   ],
   "source": [
    "print(X_train.head())\n",
    "print(y_train.head())\n",
    "print(test_data.head())\n"
   ]
  },
  {
   "cell_type": "code",
   "execution_count": 44,
   "metadata": {},
   "outputs": [],
   "source": [
    "import seaborn as sea\n",
    "import matplotlib.pyplot as plt\n",
    "import itertools\n",
    "from sklearn.metrics import confusion_matrix\n",
    "from sklearn.model_selection import train_test_split\n",
    "from sklearn import svm, tree, neighbors, neural_network\n",
    "import numpy as np\n",
    "import pandas as pd\n",
    "from sklearn.preprocessing import LabelEncoder\n"
   ]
  },
  {
   "cell_type": "code",
   "execution_count": 45,
   "metadata": {},
   "outputs": [],
   "source": [
    "train_data = pd.read_csv('train.csv')\n",
    "test_data = pd.read_csv('test.csv')\n",
    "\n"
   ]
  },
  {
   "cell_type": "code",
   "execution_count": 46,
   "metadata": {},
   "outputs": [
    {
     "data": {
      "text/html": [
       "<div>\n",
       "<style scoped>\n",
       "    .dataframe tbody tr th:only-of-type {\n",
       "        vertical-align: middle;\n",
       "    }\n",
       "\n",
       "    .dataframe tbody tr th {\n",
       "        vertical-align: top;\n",
       "    }\n",
       "\n",
       "    .dataframe thead th {\n",
       "        text-align: right;\n",
       "    }\n",
       "</style>\n",
       "<table border=\"1\" class=\"dataframe\">\n",
       "  <thead>\n",
       "    <tr style=\"text-align: right;\">\n",
       "      <th></th>\n",
       "      <th>PassengerId</th>\n",
       "      <th>Pclass</th>\n",
       "      <th>Name</th>\n",
       "      <th>Sex</th>\n",
       "      <th>Age</th>\n",
       "      <th>SibSp</th>\n",
       "      <th>Parch</th>\n",
       "      <th>Ticket</th>\n",
       "      <th>Fare</th>\n",
       "      <th>Cabin</th>\n",
       "      <th>Embarked</th>\n",
       "    </tr>\n",
       "  </thead>\n",
       "  <tbody>\n",
       "    <tr>\n",
       "      <th>0</th>\n",
       "      <td>892</td>\n",
       "      <td>3</td>\n",
       "      <td>Kelly, Mr. James</td>\n",
       "      <td>male</td>\n",
       "      <td>34.5</td>\n",
       "      <td>0</td>\n",
       "      <td>0</td>\n",
       "      <td>330911</td>\n",
       "      <td>7.8292</td>\n",
       "      <td>NaN</td>\n",
       "      <td>Q</td>\n",
       "    </tr>\n",
       "    <tr>\n",
       "      <th>1</th>\n",
       "      <td>893</td>\n",
       "      <td>3</td>\n",
       "      <td>Wilkes, Mrs. James (Ellen Needs)</td>\n",
       "      <td>female</td>\n",
       "      <td>47.0</td>\n",
       "      <td>1</td>\n",
       "      <td>0</td>\n",
       "      <td>363272</td>\n",
       "      <td>7.0000</td>\n",
       "      <td>NaN</td>\n",
       "      <td>S</td>\n",
       "    </tr>\n",
       "    <tr>\n",
       "      <th>2</th>\n",
       "      <td>894</td>\n",
       "      <td>2</td>\n",
       "      <td>Myles, Mr. Thomas Francis</td>\n",
       "      <td>male</td>\n",
       "      <td>62.0</td>\n",
       "      <td>0</td>\n",
       "      <td>0</td>\n",
       "      <td>240276</td>\n",
       "      <td>9.6875</td>\n",
       "      <td>NaN</td>\n",
       "      <td>Q</td>\n",
       "    </tr>\n",
       "    <tr>\n",
       "      <th>3</th>\n",
       "      <td>895</td>\n",
       "      <td>3</td>\n",
       "      <td>Wirz, Mr. Albert</td>\n",
       "      <td>male</td>\n",
       "      <td>27.0</td>\n",
       "      <td>0</td>\n",
       "      <td>0</td>\n",
       "      <td>315154</td>\n",
       "      <td>8.6625</td>\n",
       "      <td>NaN</td>\n",
       "      <td>S</td>\n",
       "    </tr>\n",
       "    <tr>\n",
       "      <th>4</th>\n",
       "      <td>896</td>\n",
       "      <td>3</td>\n",
       "      <td>Hirvonen, Mrs. Alexander (Helga E Lindqvist)</td>\n",
       "      <td>female</td>\n",
       "      <td>22.0</td>\n",
       "      <td>1</td>\n",
       "      <td>1</td>\n",
       "      <td>3101298</td>\n",
       "      <td>12.2875</td>\n",
       "      <td>NaN</td>\n",
       "      <td>S</td>\n",
       "    </tr>\n",
       "  </tbody>\n",
       "</table>\n",
       "</div>"
      ],
      "text/plain": [
       "   PassengerId  Pclass                                          Name     Sex  \\\n",
       "0          892       3                              Kelly, Mr. James    male   \n",
       "1          893       3              Wilkes, Mrs. James (Ellen Needs)  female   \n",
       "2          894       2                     Myles, Mr. Thomas Francis    male   \n",
       "3          895       3                              Wirz, Mr. Albert    male   \n",
       "4          896       3  Hirvonen, Mrs. Alexander (Helga E Lindqvist)  female   \n",
       "\n",
       "    Age  SibSp  Parch   Ticket     Fare Cabin Embarked  \n",
       "0  34.5      0      0   330911   7.8292   NaN        Q  \n",
       "1  47.0      1      0   363272   7.0000   NaN        S  \n",
       "2  62.0      0      0   240276   9.6875   NaN        Q  \n",
       "3  27.0      0      0   315154   8.6625   NaN        S  \n",
       "4  22.0      1      1  3101298  12.2875   NaN        S  "
      ]
     },
     "execution_count": 46,
     "metadata": {},
     "output_type": "execute_result"
    }
   ],
   "source": [
    "train_data.head()\n",
    "test_data.head()\n",
    "\n"
   ]
  },
  {
   "cell_type": "code",
   "execution_count": 47,
   "metadata": {},
   "outputs": [
    {
     "data": {
      "text/plain": [
       "['Age', 'Cabin', 'Embarked']"
      ]
     },
     "execution_count": 47,
     "metadata": {},
     "output_type": "execute_result"
    }
   ],
   "source": [
    "train_data.columns[train_data.isna().any()].tolist()\n",
    "\n"
   ]
  },
  {
   "cell_type": "code",
   "execution_count": 48,
   "metadata": {},
   "outputs": [
    {
     "name": "stderr",
     "output_type": "stream",
     "text": [
      "/home/hemang/.local/lib/python3.6/site-packages/pandas/core/indexing.py:190: SettingWithCopyWarning: \n",
      "A value is trying to be set on a copy of a slice from a DataFrame\n",
      "\n",
      "See the caveats in the documentation: http://pandas.pydata.org/pandas-docs/stable/indexing.html#indexing-view-versus-copy\n",
      "  self._setitem_with_indexer(indexer, value)\n"
     ]
    }
   ],
   "source": [
    "\n",
    "data = [test_data, train_data]\n",
    "\n",
    "for train_data in data:\n",
    "    train_data.drop(columns=['PassengerId', 'Ticket', 'Cabin'], inplace=True)\n",
    "\n",
    "    train_data['Alone'] = 1\n",
    "    train_data['Alone'].loc[train_data['Parch'] + train_data['SibSp'] > 1] = 0\n",
    "\n",
    "    train_nan_map = {'Age': train_data['Age'].mean(), 'Fare': train_data['Fare'].mean(\n",
    "    ), 'Embarked': train_data['Embarked'].mode()[0]}\n",
    "\n",
    "    train_data.fillna(value=train_nan_map, inplace=True)\n",
    "\n",
    "    # columns_map = {'Embarked': {'C': 0, 'Q': 1, 'S': 2},\n",
    "    #                'Sex': {'male': 0, 'female': 1}}\n",
    "    # train_data.replace(columns_map, inplace=True)\n",
    "\n",
    "    train_data['Title'] = train_data['Name'].str.split(\n",
    "        \", \", expand=True)[1].str.split(\".\", expand=True)[0]\n",
    "    stat_min = 10\n",
    "    title_names = (train_data['Title'].value_counts() < stat_min)\n",
    "\n",
    "    train_data['Title'] = train_data['Title'].apply(\n",
    "        lambda x: 'Misc' if title_names.loc[x] == True else x)\n",
    "\n",
    "    encoder = LabelEncoder()\n",
    "    encode = ['Embarked', 'Sex', 'Title']\n",
    "    for col in encode:\n",
    "        train_data[col] = encoder.fit_transform(train_data[col])\n",
    "\n",
    "X_train = train_data.loc[:, train_data.columns != 'Survived']\n",
    "X_train = train_data.loc[:, train_data.columns != 'Name']\n",
    "\n",
    "y_train = train_data.loc[:, 'Survived']\n",
    "\n",
    "X_train, X_test, y_train, y_test = train_test_split(\n",
    "    X_train, y_train, test_size=0.33, random_state=10)\n"
   ]
  },
  {
   "cell_type": "code",
   "execution_count": 49,
   "metadata": {},
   "outputs": [
    {
     "name": "stdout",
     "output_type": "stream",
     "text": [
      "Survived  Pclass  Sex        Age  SibSp  Parch    Fare  Embarked  Alone  \\\n",
      "463         0       2    1  48.000000      0      0  13.000         2      1   \n",
      "159         0       3    1  29.699118      8      2  69.550         2      0   \n",
      "47          1       3    0  29.699118      0      0   7.750         1      1   \n",
      "402         0       3    0  21.000000      1      0   9.825         2      1   \n",
      "618         1       2    0   4.000000      2      1  39.000         2      0   \n",
      "\n",
      "     Title  \n",
      "463      3  \n",
      "159      0  \n",
      "47       2  \n",
      "402      2  \n",
      "618      2  \n",
      "463    0\n",
      "159    0\n",
      "47     1\n",
      "402    0\n",
      "618    1\n",
      "Name: Survived, dtype: int64\n",
      "   Pclass                                          Name  Sex   Age  SibSp  \\\n",
      "0       3                              Kelly, Mr. James    1  34.5      0   \n",
      "1       3              Wilkes, Mrs. James (Ellen Needs)    0  47.0      1   \n",
      "2       2                     Myles, Mr. Thomas Francis    1  62.0      0   \n",
      "3       3                              Wirz, Mr. Albert    1  27.0      0   \n",
      "4       3  Hirvonen, Mrs. Alexander (Helga E Lindqvist)    0  22.0      1   \n",
      "\n",
      "   Parch     Fare  Embarked  Alone  Title  \n",
      "0      0   7.8292         1      1      3  \n",
      "1      0   7.0000         2      1      4  \n",
      "2      0   9.6875         1      1      3  \n",
      "3      0   8.6625         2      1      3  \n",
      "4      1  12.2875         2      0      4  \n"
     ]
    }
   ],
   "source": [
    "print(X_train.head())\n",
    "print(y_train.head())\n",
    "print(test_data.head())\n"
   ]
  }
 ],
 "metadata": {
  "file_extension": ".py",
  "kernelspec": {
   "display_name": "Python 3",
   "language": "python",
   "name": "python3"
  },
  "language_info": {
   "codemirror_mode": {
    "name": "ipython",
    "version": 3
   },
   "file_extension": ".py",
   "mimetype": "text/x-python",
   "name": "python",
   "nbconvert_exporter": "python",
   "pygments_lexer": "ipython3",
   "version": "3.6.8"
  },
  "mimetype": "text/x-python",
  "name": "python",
  "npconvert_exporter": "python",
  "pygments_lexer": "ipython3",
  "version": 3
 },
 "nbformat": 4,
 "nbformat_minor": 2
}
